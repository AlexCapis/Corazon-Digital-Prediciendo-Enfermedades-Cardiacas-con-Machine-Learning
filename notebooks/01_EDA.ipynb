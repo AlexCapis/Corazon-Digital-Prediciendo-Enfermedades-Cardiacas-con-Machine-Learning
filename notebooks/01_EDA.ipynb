{
 "cells": [
  {
   "attachments": {},
   "cell_type": "markdown",
   "metadata": {},
   "source": [
    "#  \"Explorando el corazón: Utilizando datos clínicos y de estilo de vida para predecir enfermedades cardíacas\"\n",
    "\n",
    "#### INTRODUCCIÓN\n",
    "\n",
    " Este proyecto se centra en la detección temprana y prevención de enfermedades cardíacas, que son una de las principales causas de muerte en los Estados Unidos. A través del análisis de factores de riesgo clave como presión arterial alta, colesterol elevado, tabaquismo, estado diabético, obesidad y falta de actividad física, se busca desarrollar un modelo de aprendizaje automático capaz de predecir la condición cardíaca de los individuos. Al aplicar técnicas computacionales avanzadas, se pretende identificar patrones y tendencias en los datos clínicos, lo que permitirá una detección temprana y un enfoque preventivo para mejorar la salud cardiovascular. Este proyecto busca brindar una herramienta eficiente para los profesionales de la salud en la toma de decisiones y promover una atención personalizada y preventiva para reducir la carga de las enfermedades cardíacas en la población.\"\n",
    "\n",
    "#### CARACTERÍSTICAS DEL PROBLEMA\n",
    "\n",
    "A continuación, se muestra una breve descripción con el significado de cada variable para una mejor comprensión acerca del problema a tratar.\n",
    " \n",
    "**HeartDisease**: Encuestados que alguna vez informaron haber tenido una enfermedad cardíaca coronaria (CHD) o un infarto de miocardio (IM).\n",
    "\n",
    "**IMC**: Índice de Masa Corporal (IMC).\n",
    "\n",
    "**Smoking**: ¿Ha fumado al menos 100 cigarrillos en toda su vida? (La respuesta Sí o No).\n",
    "\n",
    "**AlcoholDrinking**: Bebedores frecuentes (hombres adultos que toman más de 14 tragos p/semana y mujeres adultas que toman más de 7 tragos p/semana)\n",
    "\n",
    "**Stroke**: (Alguna vez le dijeron) (usted tuvo) un accidente cerebrovascular?\n",
    "\n",
    "**PhysicalHealth**: Su salud física, incluye enfermedades y lesiones físicas, ¿cuántos días durante los últimos 30 días su salud física no fue buena?\n",
    "\n",
    "**MentalHealth**: Pensando en su salud mental, ¿durante cuántos días durante los últimos 30 días su salud mental no fue buena? (0-30 días).\n",
    "\n",
    "**DiffWalking**: ¿Tiene serias dificultades para caminar o subir escaleras?\n",
    "\n",
    "**Sex**: ¿Hombre o Mujer?\n",
    "\n",
    "**AgeCategory**: Categoría de edad de catorce niveles.\n",
    "\n",
    "**Race**: Valor de raza/etnicidad imputado.\n",
    "\n",
    "**Diabetic**: (Alguna vez le dijeron) (usted tenía) diabetes?\n",
    "\n",
    "**PhysicalActivity**: Adultos que informaron haber realizado actividad física o ejercicio durante los últimos 30 días además de su trabajo habitual.\n",
    "\n",
    "**GenHealth**: ¿Diría usted que, en general, su salud es...?\n",
    "\n",
    "**SleepTime**: en promedio, ¿cuántas horas duermes en un período de 24 horas?\n",
    "\n",
    "**Asthma**: (Alguna vez le dijeron) (usted tenía) asma?\n",
    "\n",
    "**KidneyDisease**: sin incluir cálculos renales, infección de la vejiga o incontinencia, ¿alguna vez le dijeron que tenía una enfermedad renal?\n",
    "\n",
    "**SkinCancer**: (Alguna vez le dijeron) (usted tenía) cáncer de piel?\n",
    "\n",
    "#### OBJETIVO PRINCIPAL A TRATAR\n",
    "\n",
    "El objetivo principal en este caso es predecir la presencia o ausencia de enfermedad cardíaca (HeartDisease). Por lo tanto, la columna \"HeartDisease\" será tu variable objetivo o target en el problema de machine learning. Será la variable que se tratará de  predecir utilizando las demás características presentes en el dataframe.\n",
    "\n",
    "#### ANÁLISIS EXPLORATORIO DE DATOS (EDA)\n",
    "\n",
    "\n"
   ]
  },
  {
   "cell_type": "code",
   "execution_count": null,
   "metadata": {},
   "outputs": [],
   "source": [
    "# Importamos las distintas librerias necesarias para el análisis\n",
    "\n",
    "# Tratamiento de datos\n",
    "import numpy as np\n",
    "import pandas as pd\n",
    "\n",
    "# Gráficos\n",
    "import matplotlib.pyplot as plt\n",
    "import seaborn as sns\n",
    "\n",
    "# Preprocesado y modelado\n",
    "from sklearn.decomposition import PCA\n",
    "from sklearn.pipeline import make_pipeline\n",
    "from sklearn.preprocessing import StandardScaler\n",
    "from sklearn.preprocessing import scale\n",
    "\n",
    "# Configuración warnings\n",
    "import warnings\n",
    "warnings.filterwarnings('ignore')"
   ]
  },
  {
   "attachments": {},
   "cell_type": "markdown",
   "metadata": {},
   "source": []
  },
  {
   "cell_type": "code",
   "execution_count": null,
   "metadata": {},
   "outputs": [],
   "source": []
  },
  {
   "cell_type": "code",
   "execution_count": null,
   "metadata": {},
   "outputs": [],
   "source": []
  },
  {
   "cell_type": "code",
   "execution_count": null,
   "metadata": {},
   "outputs": [],
   "source": []
  },
  {
   "cell_type": "code",
   "execution_count": null,
   "metadata": {},
   "outputs": [],
   "source": []
  },
  {
   "cell_type": "code",
   "execution_count": null,
   "metadata": {},
   "outputs": [],
   "source": []
  },
  {
   "cell_type": "code",
   "execution_count": null,
   "metadata": {},
   "outputs": [],
   "source": []
  }
 ],
 "metadata": {
  "language_info": {
   "name": "python"
  },
  "orig_nbformat": 4
 },
 "nbformat": 4,
 "nbformat_minor": 2
}
