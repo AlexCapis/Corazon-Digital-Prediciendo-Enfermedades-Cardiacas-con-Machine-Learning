{
 "cells": [
  {
   "cell_type": "code",
   "execution_count": null,
   "metadata": {},
   "outputs": [],
   "source": [
    "''' # Imprimo de todas las columnas sus valores únicos para saber si son binarias o no\n",
    "print(\"HeartDisease\", df[\"HeartDisease\"].unique())\n",
    "print(\"BMI\", df[\"BMI\"].unique())\n",
    "print(\"Smoking\", df[\"Smoking\"].unique())\n",
    "print(\"AlcoholDrinking\",df[\"AlcoholDrinking\"].unique())\n",
    "print(\"Stroke\", df[\"Stroke\"].unique())\n",
    "print(\"PhysicalHealth\",df[\"PhysicalHealth\"].unique())\n",
    "print(\"MentalHealth\", df[\"MentalHealth\"].unique())\n",
    "print(\"DiffWalking\",df[\"DiffWalking\"].unique())\n",
    "print(\"Sex\", df[\"Sex\"].unique())\n",
    "print(\"AgeCategory\",df[\"AgeCategory\"].unique())\n",
    "print(\"Race\", df[\"Race\"].unique())\n",
    "print(\"Diabetic\",df[\"Diabetic\"].unique())\n",
    "print(\"PhysicalActivity\", df[\"PhysicalActivity\"].unique())\n",
    "print(\"GenHealth\",df[\"GenHealth\"].unique())\n",
    "print(\"SleepTime\", df[\"SleepTime\"].unique())\n",
    "print(\"Asthma\",df[\"Asthma\"].unique())\n",
    "print(\"KidneyDisease\", df[\"KidneyDisease\"].unique())\n",
    "print(\"SkinCancer\",df[\"SkinCancer\"].unique())\n",
    "'''"
   ]
  },
  {
   "cell_type": "code",
   "execution_count": null,
   "metadata": {},
   "outputs": [],
   "source": [
    "'''# Cambiamos los valores de las columnas binarias (son 10)\n",
    "    # De la columna de \"Smoking\"\n",
    "df[\"HeartDisease\"][df[\"HeartDisease\"] == \"No\"] = 0\n",
    "df[\"HeartDisease\"][df[\"HeartDisease\"] == \"Yes\"] = 1\n",
    "\n",
    "df[\"Smoking\"][df[\"Smoking\"] == \"No\"] = 0\n",
    "df[\"Smoking\"][df[\"Smoking\"] == \"Yes\"] = 1\n",
    "\n",
    "    # De la columna de \"AlcoholDrinking\"\n",
    "df[\"AlcoholDrinking\"][df[\"AlcoholDrinking\"] == \"No\"] = 0\n",
    "df[\"AlcoholDrinking\"][df[\"AlcoholDrinking\"] == \"Yes\"] = 1\n",
    "\n",
    "    # De la columna de \"Stroke\"\n",
    "df[\"Stroke\"][df[\"Stroke\"] == \"No\"] = 0\n",
    "df[\"Stroke\"][df[\"Stroke\"] == \"Yes\"] = 1\n",
    "\n",
    "    # De la columna de \"DiffWalking\"\n",
    "df[\"DiffWalking\"][df[\"DiffWalking\"] == \"No\"] = 0\n",
    "df[\"DiffWalking\"][df[\"DiffWalking\"] == \"Yes\"] = 1\n",
    "\n",
    "\n",
    "    # De la columna de \"PhysicalActivity\"\n",
    "df[\"PhysicalActivity\"][df[\"PhysicalActivity\"] == \"No\"] = 0\n",
    "df[\"PhysicalActivity\"][df[\"PhysicalActivity\"] == \"Yes\"] = 1\n",
    "\n",
    "    # De la columna de \"Asthma\"\n",
    "df[\"Asthma\"][df[\"Asthma\"] == \"No\"] = 0\n",
    "df[\"Asthma\"][df[\"Asthma\"] == \"Yes\"] = 1\n",
    "\n",
    "    # De la columna de \"KidneyDisease\"\n",
    "df[\"KidneyDisease\"][df[\"KidneyDisease\"] == \"No\"] = 0\n",
    "df[\"KidneyDisease\"][df[\"KidneyDisease\"] == \"Yes\"] = 1\n",
    "\n",
    "    # De la columna de \"KidneyDisease\"\n",
    "df[\"SkinCancer\"][df[\"SkinCancer\"] == \"No\"] = 0\n",
    "df[\"SkinCancer\"][df[\"SkinCancer\"] == \"Yes\"] = 1\n",
    "'''\n"
   ]
  },
  {
   "cell_type": "code",
   "execution_count": null,
   "metadata": {},
   "outputs": [],
   "source": [
    "''' # Realizo el cambio de las variables de tipo object a int\n",
    "df[\"HeartDisease\"] = df[\"HeartDisease\"].astype(int)\n",
    "df[\"Smoking\"] = df[\"Smoking\"].astype(int)\n",
    "df[\"AlcoholDrinking\"] = df[\"AlcoholDrinking\"].astype(int)\n",
    "df[\"Stroke\"] = df[\"Stroke\"].astype(int)\n",
    "df[\"DiffWalking\"] = df[\"DiffWalking\"].astype(int)\n",
    "df[\"Sex\"] = df[\"Sex\"].astype(int)\n",
    "df[\"PhysicalActivity\"] = df[\"PhysicalActivity\"].astype(int)\n",
    "df[\"Asthma\"] = df[\"Asthma\"].astype(int)\n",
    "df[\"KidneyDisease\"] = df[\"KidneyDisease\"].astype(int)\n",
    "df[\"SkinCancer\"] = df[\"SkinCancer\"].astype(int)\n",
    "'''"
   ]
  },
  {
   "cell_type": "code",
   "execution_count": null,
   "metadata": {},
   "outputs": [],
   "source": [
    "''' # Para ver la cantidad de 0 y 1 de cada variable que he modificado\n",
    "print(\"HeartDisease\", df[\"HeartDisease\"].value_counts())\n",
    "print(\"Smoking\", df[\"Smoking\"].value_counts())\n",
    "print(\"AlcoholDrinking\",df[\"AlcoholDrinking\"].value_counts())\n",
    "print(\"Stroke\", df[\"Stroke\"].value_counts())\n",
    "print(\"DiffWalking\",df[\"DiffWalking\"].value_counts())\n",
    "print(\"Sex\", df[\"Sex\"].value_counts())\n",
    "print(\"PhysicalActivity\", df[\"PhysicalActivity\"].value_counts())\n",
    "print(\"Asthma\",df[\"Asthma\"].value_counts())\n",
    "print(\"KidneyDisease\", df[\"KidneyDisease\"].value_counts())\n",
    "print(\"SkinCancer\",df[\"SkinCancer\"].value_counts())\n",
    "'''"
   ]
  },
  {
   "cell_type": "code",
   "execution_count": null,
   "metadata": {},
   "outputs": [],
   "source": [
    "from sklearn.preprocessing import LabelEncoder\n",
    "\n",
    "# Creamos una instancia de LabelEncoder\n",
    "label_encoder = LabelEncoder()\n",
    "\n",
    "# Ajustamos y transformamos los datos de la columna 'AgeCategory' utilizando LabelEncoder\n",
    "df['AgeCategory_encoded'] = label_encoder.fit_transform(df['AgeCategory'])\n",
    "\n",
    "df['AgeCategory_encoded']"
   ]
  },
  {
   "cell_type": "code",
   "execution_count": null,
   "metadata": {},
   "outputs": [],
   "source": [
    "map_AgeCategory = {'18-24': 0, \n",
    "                   '25-29': 1, \n",
    "                   '30-34': 2, \n",
    "                   '35-39': 3, \n",
    "                   '40-44': 4, \n",
    "                   '45-49': 5, \n",
    "                   '50-54': 6, \n",
    "                   '55-59': 7, \n",
    "                   '60-64': 8, \n",
    "                   '65-69': 9, \n",
    "                   '70-74': 10, \n",
    "                   '75-79': 11, \n",
    "                   '80 or older': 12}\n",
    "\n",
    "df['AgeCategory_int'] = df['AgeCategory'].map(map_AgeCategory)\n",
    "df['AgeCategory_int']"
   ]
  },
  {
   "cell_type": "code",
   "execution_count": null,
   "metadata": {},
   "outputs": [],
   "source": [
    "# df_encoded = pd.get_dummies(df, columns=['Race'], prefix='Race')\n"
   ]
  },
  {
   "cell_type": "code",
   "execution_count": null,
   "metadata": {},
   "outputs": [],
   "source": [
    "from sklearn.preprocessing import LabelEncoder\n",
    "\n",
    "# Creamos una instancia de LabelEncoder\n",
    "label_encoder = LabelEncoder()\n",
    "\n",
    "# Ajustamos y transformamos los datos de la columna 'Race' utilizando LabelEncoder\n",
    "df['Race_encoded'] = label_encoder.fit_transform(df['Race'])\n",
    "df['Race_encoded']"
   ]
  },
  {
   "cell_type": "code",
   "execution_count": null,
   "metadata": {},
   "outputs": [],
   "source": [
    " # Creamos una instancia de LabelEncoder\n",
    "label_encoder = LabelEncoder()\n",
    "\n",
    "# Ajustamos y transformamos los datos de la columna 'Diabetic' utilizando LabelEncoder\n",
    "df['Diabetic_encoded'] = label_encoder.fit_transform(df['Diabetic'])\n",
    "df['Diabetic_encoded']"
   ]
  },
  {
   "cell_type": "code",
   "execution_count": null,
   "metadata": {},
   "outputs": [],
   "source": [
    " # Creamos una instancia de LabelEncoder\n",
    "label_encoder = LabelEncoder()\n",
    "\n",
    "# Ajustamos y transformamos los datos de la columna 'GenHealth' utilizando LabelEncoder\n",
    "df['GenHealth_encoded'] = label_encoder.fit_transform(df['GenHealth'])\n",
    "df['GenHealth_encoded']"
   ]
  }
 ],
 "metadata": {
  "language_info": {
   "name": "python"
  },
  "orig_nbformat": 4
 },
 "nbformat": 4,
 "nbformat_minor": 2
}
