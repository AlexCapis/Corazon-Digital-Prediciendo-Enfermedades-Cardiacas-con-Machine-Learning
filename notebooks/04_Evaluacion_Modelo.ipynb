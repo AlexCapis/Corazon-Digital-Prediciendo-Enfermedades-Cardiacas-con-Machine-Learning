{
 "cells": [
  {
   "attachments": {},
   "cell_type": "markdown",
   "metadata": {},
   "source": [
    "#  \"Explorando el corazón: Utilizando datos clínicos y de estilo de vida para predecir enfermedades cardíacas\"\n",
    "\n",
    "\n",
    "## EVALUACIÓN DEL MODELO\n",
    "\n",
    "En este notebook, llevaremos a cabo la evaluación de nuestro mejor modelo utilizando diversas métricas relevantes. El objetivo principal es obtener una visión completa del rendimiento del modelo y determinar su eficacia en la detección de enfermedades cardíacas.\n",
    "\n",
    "Comenzaremos por calcular las métricas de precisión, recall y f1-score. Estas métricas nos proporcionarán información sobre la capacidad del modelo para predecir correctamente tanto los casos positivos como los negativos. La precisión nos dirá qué tan preciso es el modelo al predecir los casos positivos, mientras que el recall nos indicará qué tan bien identifica los casos positivos. El f1-score combina la precisión y el recall en una única métrica que nos ayuda a evaluar el equilibrio entre ambas.\n",
    "\n",
    "Además de estas métricas, también examinaremos la exactitud (accuracy) del modelo, que nos indica la proporción de predicciones correctas en general. Si bien la exactitud es importante, en este caso particular nos enfocaremos más en las métricas relacionadas con los casos positivos, como el recall.\n",
    "\n",
    "Otra métrica importante a considerar es el área bajo la curva ROC (AUC-ROC). Esta métrica nos proporciona una medida del rendimiento del modelo en términos de su capacidad para distinguir entre las clases positiva y negativa. Un valor de AUC-ROC cercano a 1 indica un buen rendimiento en la clasificación de los casos.\n",
    "\n",
    "Además de estas métricas, también evaluaremos la matriz de confusión, que nos mostrará la distribución de las predicciones del modelo en cada clase. Esto nos permitirá identificar posibles áreas de mejora y comprender mejor el rendimiento del modelo.\n",
    "\n",
    "En resumen, en este notebook llevaremos a cabo una evaluación exhaustiva de nuestro mejor modelo utilizando métricas clave como precisión, recall, f1-score, exactitud y AUC-ROC. También examinaremos la matriz de confusión para obtener una comprensión más detallada del rendimiento del modelo.\n"
   ]
  },
  {
   "cell_type": "code",
   "execution_count": 25,
   "metadata": {},
   "outputs": [],
   "source": [
    "# Importamos librerías\n",
    "# Importamos las distintas librerias necesarias para el análisis\n",
    "\n",
    "# Tratamiento de datos\n",
    "import numpy as np\n",
    "import pandas as pd\n",
    "\n",
    "# Lectura del modelo\n",
    "import pickle\n",
    "import os\n",
    "\n",
    "# Gráficos\n",
    "import matplotlib.pyplot as plt\n",
    "import seaborn as sns\n",
    "\n",
    "# Preprocesado y modelado\n",
    "\n",
    "from sklearn.metrics import accuracy_score,log_loss, precision_score, recall_score, f1_score, classification_report\n",
    "from sklearn.ensemble import RandomForestClassifier\n",
    "from sklearn.metrics import confusion_matrix\n",
    "\n",
    "# Configuración warnings\n",
    "import warnings\n",
    "warnings.filterwarnings('ignore')\n"
   ]
  },
  {
   "cell_type": "code",
   "execution_count": 17,
   "metadata": {},
   "outputs": [
    {
     "data": {
      "text/html": [
       "<div>\n",
       "<style scoped>\n",
       "    .dataframe tbody tr th:only-of-type {\n",
       "        vertical-align: middle;\n",
       "    }\n",
       "\n",
       "    .dataframe tbody tr th {\n",
       "        vertical-align: top;\n",
       "    }\n",
       "\n",
       "    .dataframe thead th {\n",
       "        text-align: right;\n",
       "    }\n",
       "</style>\n",
       "<table border=\"1\" class=\"dataframe\">\n",
       "  <thead>\n",
       "    <tr style=\"text-align: right;\">\n",
       "      <th></th>\n",
       "      <th>Smoking</th>\n",
       "      <th>Stroke</th>\n",
       "      <th>DiffWalking</th>\n",
       "      <th>Sex</th>\n",
       "      <th>AgeCategory_encoded</th>\n",
       "      <th>Diabetic_encoded</th>\n",
       "      <th>GrupoSalud_Ordinal</th>\n",
       "      <th>HeartDisease</th>\n",
       "    </tr>\n",
       "  </thead>\n",
       "  <tbody>\n",
       "    <tr>\n",
       "      <th>0</th>\n",
       "      <td>1</td>\n",
       "      <td>0</td>\n",
       "      <td>0</td>\n",
       "      <td>0</td>\n",
       "      <td>1</td>\n",
       "      <td>0</td>\n",
       "      <td>1</td>\n",
       "      <td>0</td>\n",
       "    </tr>\n",
       "    <tr>\n",
       "      <th>1</th>\n",
       "      <td>0</td>\n",
       "      <td>0</td>\n",
       "      <td>0</td>\n",
       "      <td>0</td>\n",
       "      <td>2</td>\n",
       "      <td>0</td>\n",
       "      <td>1</td>\n",
       "      <td>0</td>\n",
       "    </tr>\n",
       "    <tr>\n",
       "      <th>2</th>\n",
       "      <td>1</td>\n",
       "      <td>0</td>\n",
       "      <td>0</td>\n",
       "      <td>0</td>\n",
       "      <td>4</td>\n",
       "      <td>0</td>\n",
       "      <td>1</td>\n",
       "      <td>0</td>\n",
       "    </tr>\n",
       "    <tr>\n",
       "      <th>3</th>\n",
       "      <td>0</td>\n",
       "      <td>0</td>\n",
       "      <td>0</td>\n",
       "      <td>0</td>\n",
       "      <td>9</td>\n",
       "      <td>0</td>\n",
       "      <td>3</td>\n",
       "      <td>0</td>\n",
       "    </tr>\n",
       "    <tr>\n",
       "      <th>4</th>\n",
       "      <td>1</td>\n",
       "      <td>0</td>\n",
       "      <td>1</td>\n",
       "      <td>0</td>\n",
       "      <td>8</td>\n",
       "      <td>0</td>\n",
       "      <td>3</td>\n",
       "      <td>0</td>\n",
       "    </tr>\n",
       "    <tr>\n",
       "      <th>...</th>\n",
       "      <td>...</td>\n",
       "      <td>...</td>\n",
       "      <td>...</td>\n",
       "      <td>...</td>\n",
       "      <td>...</td>\n",
       "      <td>...</td>\n",
       "      <td>...</td>\n",
       "      <td>...</td>\n",
       "    </tr>\n",
       "    <tr>\n",
       "      <th>63954</th>\n",
       "      <td>1</td>\n",
       "      <td>0</td>\n",
       "      <td>0</td>\n",
       "      <td>1</td>\n",
       "      <td>12</td>\n",
       "      <td>0</td>\n",
       "      <td>1</td>\n",
       "      <td>0</td>\n",
       "    </tr>\n",
       "    <tr>\n",
       "      <th>63955</th>\n",
       "      <td>1</td>\n",
       "      <td>0</td>\n",
       "      <td>0</td>\n",
       "      <td>1</td>\n",
       "      <td>3</td>\n",
       "      <td>0</td>\n",
       "      <td>2</td>\n",
       "      <td>0</td>\n",
       "    </tr>\n",
       "    <tr>\n",
       "      <th>63956</th>\n",
       "      <td>0</td>\n",
       "      <td>0</td>\n",
       "      <td>0</td>\n",
       "      <td>0</td>\n",
       "      <td>3</td>\n",
       "      <td>0</td>\n",
       "      <td>1</td>\n",
       "      <td>0</td>\n",
       "    </tr>\n",
       "    <tr>\n",
       "      <th>63957</th>\n",
       "      <td>0</td>\n",
       "      <td>0</td>\n",
       "      <td>0</td>\n",
       "      <td>1</td>\n",
       "      <td>10</td>\n",
       "      <td>0</td>\n",
       "      <td>1</td>\n",
       "      <td>0</td>\n",
       "    </tr>\n",
       "    <tr>\n",
       "      <th>63958</th>\n",
       "      <td>1</td>\n",
       "      <td>0</td>\n",
       "      <td>1</td>\n",
       "      <td>1</td>\n",
       "      <td>8</td>\n",
       "      <td>2</td>\n",
       "      <td>3</td>\n",
       "      <td>0</td>\n",
       "    </tr>\n",
       "  </tbody>\n",
       "</table>\n",
       "<p>63959 rows × 8 columns</p>\n",
       "</div>"
      ],
      "text/plain": [
       "       Smoking  Stroke  DiffWalking  Sex  AgeCategory_encoded   \n",
       "0            1       0            0    0                    1  \\\n",
       "1            0       0            0    0                    2   \n",
       "2            1       0            0    0                    4   \n",
       "3            0       0            0    0                    9   \n",
       "4            1       0            1    0                    8   \n",
       "...        ...     ...          ...  ...                  ...   \n",
       "63954        1       0            0    1                   12   \n",
       "63955        1       0            0    1                    3   \n",
       "63956        0       0            0    0                    3   \n",
       "63957        0       0            0    1                   10   \n",
       "63958        1       0            1    1                    8   \n",
       "\n",
       "       Diabetic_encoded  GrupoSalud_Ordinal  HeartDisease  \n",
       "0                     0                   1             0  \n",
       "1                     0                   1             0  \n",
       "2                     0                   1             0  \n",
       "3                     0                   3             0  \n",
       "4                     0                   3             0  \n",
       "...                 ...                 ...           ...  \n",
       "63954                 0                   1             0  \n",
       "63955                 0                   2             0  \n",
       "63956                 0                   1             0  \n",
       "63957                 0                   1             0  \n",
       "63958                 2                   3             0  \n",
       "\n",
       "[63959 rows x 8 columns]"
      ]
     },
     "execution_count": 17,
     "metadata": {},
     "output_type": "execute_result"
    }
   ],
   "source": [
    "# Leemos el archivo de data/test\n",
    "y_test = pd.read_csv(\"../data/test/test.csv\")\n",
    "y_test"
   ]
  },
  {
   "cell_type": "code",
   "execution_count": 18,
   "metadata": {},
   "outputs": [],
   "source": [
    "# Seleccionamos únicamente la columna a predecir\n",
    "y_test = y_test['HeartDisease']\n"
   ]
  },
  {
   "cell_type": "code",
   "execution_count": 19,
   "metadata": {},
   "outputs": [],
   "source": [
    "# Cargamos el modelo desde el archivo\n",
    "with open('../models/trained_model_RandomForest.pkl', 'rb') as file:\n",
    "    mejor_modelo_RandomForest = pickle.load(file)"
   ]
  },
  {
   "cell_type": "code",
   "execution_count": 20,
   "metadata": {},
   "outputs": [
    {
     "data": {
      "text/plain": [
       "array([0, 0, 0, ..., 0, 1, 1], dtype=int64)"
      ]
     },
     "execution_count": 20,
     "metadata": {},
     "output_type": "execute_result"
    }
   ],
   "source": [
    "# Este es nuestro mejor modelo de RandomForest\n",
    "mejor_modelo_RandomForest"
   ]
  },
  {
   "attachments": {},
   "cell_type": "markdown",
   "metadata": {},
   "source": [
    "### MÉTRICAS DE ACCURACY, PRECISIÓN, RECALL, SCORE F1"
   ]
  },
  {
   "cell_type": "code",
   "execution_count": 21,
   "metadata": {},
   "outputs": [
    {
     "name": "stdout",
     "output_type": "stream",
     "text": [
      "Accuracy: 0.7076408324082616\n",
      "Precisión: 0.20336758249219208\n",
      "Recall: 0.8034692417739628\n",
      "Score F1: 0.3245800975257359\n"
     ]
    }
   ],
   "source": [
    "# Calculamos las distintas métricas del modelo\n",
    "accuracy = accuracy_score(y_test, mejor_modelo_RandomForest)\n",
    "precision = precision_score(y_test, mejor_modelo_RandomForest)\n",
    "recall = recall_score(y_test, mejor_modelo_RandomForest)\n",
    "f1 = f1_score(y_test, mejor_modelo_RandomForest)\n",
    "\n",
    "print(\"Accuracy:\", accuracy)\n",
    "print(\"Precisión:\", precision)\n",
    "print(\"Recall:\", recall)\n",
    "print(\"Score F1:\", f1)"
   ]
  },
  {
   "attachments": {},
   "cell_type": "markdown",
   "metadata": {},
   "source": [
    "#\n",
    "<details>\n",
    "<summary>Explicación de las metricas</summary>\n",
    "<p>\n",
    "\n",
    "Las métricas nos indican que el modelo tiene una precisión y un puntaje F1 relativamente bajos, lo que nos sugiere que hay una proporción considerable de falsos positivos en las predicciones. Sin embargo, el recall es alto, lo que significa que el modelo es capaz de identificar correctamente la mayoría de los casos positivos. En el contexto de la detección de enfermedades cardíacas, esto podría ser beneficioso, ya que es importante identificar correctamente a los pacientes que realmente tienen la enfermedad.\n",
    "</p>\n",
    "</details>"
   ]
  },
  {
   "cell_type": "code",
   "execution_count": 12,
   "metadata": {},
   "outputs": [
    {
     "data": {
      "image/png": "[encoded data removed]",
      "text/plain": [
       "<Figure size 640x480 with 1 Axes>"
      ]
     },
     "metadata": {},
     "output_type": "display_data"
    }
   ],
   "source": [
    "\n",
    "# Calculamos las métricas\n",
    "accuracy = accuracy_score(y_test, mejor_modelo_RandomForest)\n",
    "precision = precision_score(y_test, mejor_modelo_RandomForest)\n",
    "recall = recall_score(y_test, mejor_modelo_RandomForest)\n",
    "f1 = f1_score(y_test, mejor_modelo_RandomForest)\n",
    "\n",
    "# Creamos una lista con las métricas sus nombres \n",
    "metricas = ['Accuracy', 'Precisión', 'Recall', 'F1-Score']\n",
    "valores = [accuracy, precision, recall, f1]\n",
    "\n",
    "plt.bar(metricas, valores)\n",
    "plt.ylim([0, 1])  # Ajustar el rango del eje y entre 0 y 1\n",
    "plt.title('Métricas del modelo')\n",
    "plt.xlabel('Métricas')\n",
    "plt.ylabel('Valor')\n",
    "plt.show()\n"
   ]
  },
  {
   "cell_type": "code",
   "execution_count": 33,
   "metadata": {},
   "outputs": [
    {
     "name": "stdout",
     "output_type": "stream",
     "text": [
      "Gráfico guardado en: c:\\Users\\alexm\\OneDrive\\Escritorio\\CURSO DATA SCIENCE BOOTCAMP\\PROYECTO-MACHINE-LEARNING\\notebooks\\..\\docs\\imagenes\\pie_plot_recall.png\n"
     ]
    },
    {
     "data": {
      "image/png": "[encoded data removed]",
      "text/plain": [
       "<Figure size 640x480 with 1 Axes>"
      ]
     },
     "metadata": {},
     "output_type": "display_data"
    }
   ],
   "source": [
    "# Hacemos un pie plot del recall\n",
    "recall = recall_score(y_test, mejor_modelo_RandomForest)\n",
    "\n",
    "# Calcular el porcentaje de recall\n",
    "porcentaje_recall = recall * 100\n",
    "\n",
    "# Definir las etiquetas y los valores para el gráfico de pie\n",
    "labels = ['Recall', 'Resto']\n",
    "sizes = [porcentaje_recall, 100 - porcentaje_recall]\n",
    "\n",
    "# Definir los colores de las porciones del gráfico\n",
    "colors = ['#ff9999', '#99ff99']\n",
    "\n",
    "# Crear el gráfico de pie\n",
    "plt.pie(sizes, labels=labels, colors=colors, autopct='%1.1f%%', startangle=90)\n",
    "\n",
    "# Ajustar el aspecto del gráfico\n",
    "plt.axis('equal')\n",
    "plt.title('Recall')\n",
    "\n",
    "# Guardar el gráfico en el directorio actual\n",
    "current_dir = os.getcwd()\n",
    "output_file = os.path.join(current_dir, '..', 'docs', 'imagenes', 'pie_plot_recall.png')\n",
    "plt.savefig(output_file)\n",
    "\n",
    "print(f\"Gráfico guardado en: {output_file}\")\n"
   ]
  },
  {
   "cell_type": "code",
   "execution_count": 27,
   "metadata": {},
   "outputs": [
    {
     "data": {
      "text/plain": [
       "<Figure size 640x480 with 0 Axes>"
      ]
     },
     "metadata": {},
     "output_type": "display_data"
    }
   ],
   "source": [
    "# Guardarlo en imagenes\n",
    "current_dir = os.getcwd() # directorio actual de trabajo\n",
    "imagenes_dir = os.path.join(current_dir, '..', 'docs', 'imagenes') # la ruta de imagenes\n",
    "imagen_path = os.path.join(imagenes_dir, 'recall_pie_plot.png') # lo guardamos con el nombre especificado\n",
    "plt.savefig(imagen_path)"
   ]
  },
  {
   "attachments": {},
   "cell_type": "markdown",
   "metadata": {},
   "source": [
    "### INFORME DE CLASIFICACIÓN"
   ]
  },
  {
   "cell_type": "code",
   "execution_count": 30,
   "metadata": {},
   "outputs": [
    {
     "name": "stdout",
     "output_type": "stream",
     "text": [
      "Classification Report:\n",
      "              precision    recall  f1-score   support\n",
      "\n",
      "           0       0.97      0.70      0.81     58367\n",
      "           1       0.20      0.80      0.32      5592\n",
      "\n",
      "    accuracy                           0.71     63959\n",
      "   macro avg       0.59      0.75      0.57     63959\n",
      "weighted avg       0.91      0.71      0.77     63959\n",
      "\n"
     ]
    }
   ],
   "source": [
    "report = classification_report(y_test, mejor_modelo_RandomForest)\n",
    "print(\"Classification Report:\")\n",
    "print(report)"
   ]
  },
  {
   "attachments": {},
   "cell_type": "markdown",
   "metadata": {},
   "source": [
    "\n",
    "<details>\n",
    "<summary>Explicación del informe de clasificación</summary>\n",
    "<p>\n",
    "El informe de clasificación proporciona información valiosa sobre las métricas de rendimiento del modelo. En el contexto de la detección de enfermedades cardíacas, donde el objetivo principal es identificar correctamente los casos positivos, el recall se convierte en una métrica fundamental.\n",
    "\n",
    "En el caso del informe de clasificación, el modelo presenta una precisión de 0.20 para la clase 1 (heartdisease) y un recall de 0.80 para la misma clase. Esto significa que el modelo tiene una capacidad limitada para predecir correctamente los casos positivos, ya que tiene un alto número de falsos positivos. Sin embargo, el recall del 0.80 indica que el modelo tiene una buena capacidad para identificar los casos positivos existentes. Es importante tener en cuenta que el modelo también muestra una precisión del 0.97 para la clase 0 (no heartdisease), lo cual indica que el modelo tiene una alta precisión en la predicción de los casos negativos.\n",
    "\n",
    "En general, el modelo tiene un rendimiento adecuado en términos de recall para los casos positivos. \n",
    "\n",
    "</p>\n",
    "</details>"
   ]
  },
  {
   "attachments": {},
   "cell_type": "markdown",
   "metadata": {},
   "source": [
    "### MATRIZ DE CONFUSIÓN"
   ]
  },
  {
   "cell_type": "code",
   "execution_count": 35,
   "metadata": {},
   "outputs": [
    {
     "data": {
      "text/plain": [
       "array([[40767, 17600],\n",
       "       [ 1099,  4493]], dtype=int64)"
      ]
     },
     "execution_count": 35,
     "metadata": {},
     "output_type": "execute_result"
    }
   ],
   "source": [
    "# Calculamos la matriz de confusión\n",
    "cm = confusion_matrix(y_test, mejor_modelo_RandomForest)\n",
    "cm\n"
   ]
  },
  {
   "cell_type": "code",
   "execution_count": 37,
   "metadata": {},
   "outputs": [
    {
     "name": "stdout",
     "output_type": "stream",
     "text": [
      "Matriz de confusión guardada en: c:\\Users\\alexm\\OneDrive\\Escritorio\\CURSO DATA SCIENCE BOOTCAMP\\PROYECTO-MACHINE-LEARNING\\notebooks\\..\\docs\\imagenes\\matriz_confusion.png\n"
     ]
    },
    {
     "data": {
      "image/png": "[encoded data removed]",
      "text/plain": [
       "<Figure size 800x600 with 2 Axes>"
      ]
     },
     "metadata": {},
     "output_type": "display_data"
    }
   ],
   "source": [
    "# Visualizamos la matriz de confusión\n",
    "plt.figure(figsize=(8, 6))\n",
    "\n",
    "# Mapa de calor\n",
    "sns.heatmap(cm, annot=True, fmt=\"d\", cmap=\"Blues\") # con \"fmt='d'\" indicamos que los valores se mostrarán como enteros.\n",
    "\n",
    "plt.title(\"Matriz de Confusión\")\n",
    "\n",
    "# Guardar la matriz de confusión en el directorio actual\n",
    "current_dir = os.getcwd()\n",
    "output_file = os.path.join(current_dir, '..', 'docs', 'imagenes', 'matriz_confusion.png')\n",
    "plt.savefig(output_file)\n",
    "\n",
    "print(f\"Matriz de confusión guardada en: {output_file}\")\n"
   ]
  },
  {
   "attachments": {},
   "cell_type": "markdown",
   "metadata": {},
   "source": [
    "\n",
    "<details>\n",
    "<summary>Explicación de la matriz de confusión</summary>\n",
    "<p>\n",
    "La matriz de confusión es una herramienta que permite visualizar el desempeño de un modelo de clasificación al mostrar la cantidad de muestras que fueron clasificadas correctamente e incorrectamente para cada clase.\n",
    "\n",
    "En el caso de tu matriz de confusión:\n",
    "\n",
    "**Verdaderos positivos (TP)**: 4493\n",
    "Representa la cantidad de casos positivos (heartdisease) que fueron correctamente clasificados como positivos por el modelo. Estos son los casos que el modelo logró identificar correctamente como personas con enfermedad cardíaca.\n",
    "\n",
    "**Falsos positivos (FP)**: 17600\n",
    "Representa la cantidad de casos negativos (no heartdisease) que fueron incorrectamente clasificados como positivos por el modelo. Estos son los casos en los que el modelo predijo incorrectamente que una persona tiene enfermedad cardíaca cuando en realidad no la tiene.\n",
    "\n",
    "**Verdaderos negativos (TN)**: 40767\n",
    "Representa la cantidad de casos negativos que fueron correctamente clasificados como negativos por el modelo. Estos son los casos en los que el modelo predijo correctamente que una persona no tiene enfermedad cardíaca.\n",
    "\n",
    "**Falsos negativos (FN)**: 1099\n",
    "Representa la cantidad de casos positivos que fueron incorrectamente clasificados como negativos por el modelo. Estos son los casos en los que el modelo no logró identificar correctamente a las personas con enfermedad cardíaca y las clasificó erróneamente como personas sanas.\n",
    "\n",
    "En resumen, la matriz de confusión muestra que el modelo clasificó correctamente a 4493 personas con enfermedad cardíaca (verdaderos positivos) y a 40767 personas sin enfermedad cardíaca (verdaderos negativos). Sin embargo, el modelo también cometió errores al clasificar erróneamente a 17600 personas sanas como enfermas (falsos positivos) y a 1099 personas con enfermedad cardíaca como sanas (falsos negativos).\n",
    "\n",
    "\n",
    "</p>\n",
    "</details>"
   ]
  }
 ],
 "metadata": {
  "kernelspec": {
   "display_name": "Python 3",
   "language": "python",
   "name": "python3"
  },
  "language_info": {
   "codemirror_mode": {
    "name": "ipython",
    "version": 3
   },
   "file_extension": ".py",
   "mimetype": "text/x-python",
   "name": "python",
   "nbconvert_exporter": "python",
   "pygments_lexer": "ipython3",
   "version": "3.10.11"
  },
  "orig_nbformat": 4
 },
 "nbformat": 4,
 "nbformat_minor": 2
}
