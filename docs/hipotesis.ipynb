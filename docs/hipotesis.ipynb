{
 "cells": [
  {
   "attachments": {},
   "cell_type": "markdown",
   "metadata": {},
   "source": [
    "# PROYECTO MACHINE LEARNING\n",
    "\n",
    "## Presentación negocio\n",
    "\n",
    "Habrá que responder a las preguntas:\n",
    "- ¿Qué problema o necesidad vamos a resolver?\n",
    "- ¿Qué solución aporta tu modelo de ML?\n",
    "- ¿Qué resultados nos ofrece el modelo? \n",
    "- ¿Qué decisiones o acciones te permiten llevar a cabo tu modelo? \n",
    "- ¿Qué consecuencias tiene en negocio?\n",
    "\n",
    "\n",
    "## Presentación DS\n",
    "\n",
    "Habrá que responder a las preguntas:\n",
    "- ¿Qué problema o necesidad vamos a resolver?\n",
    "- ¿Qué datos se han utilizado para el entrenamiento?\n",
    "- ¿Qué transformaciones y consideraciones se han realizado?\n",
    "- ¿Qué modelos has entrenado? \n",
    "- ¿Cómo ha sido el proceso de entrenamiento? \n",
    "- ¿Qué resultados nos ofrecen? ¿Qué modelo tiene mejores resultados?\n",
    "- ¿Qué variables tienen de mayor impacto? \n",
    "- ¿Qué conclusiones has obtenido? \n",
    "\n",
    "\n",
    "\n",
    "## Pasos del proyecto\n",
    "1. ¿Podemos dar solución a un problema con datos? Elige un tema.\n",
    "1. Busca y consigue los datos. Vuelta al anterior punto si nos quedamos sin ideas.\n",
    "1. Define tu problema de Machine Learning: clasificación/regresión, supervisado/ no supervisado, series temporales, imágenes, texto...\n",
    "1. Exploratorio: obtén todos los estadísticos y gráficos que necesites para entender bien tu dataset.\n",
    "1. Limpia los datos: duplicados, missings, outliers, columnas inútiles...\n",
    "1. Feature engineering: transformación y creación de nuevas variables.\n",
    "1. Prueba varios modelos. Itero tanto en nuevos conjuntos de datos, corrijo overfitting,\n",
    "1. Analiza los resultados mediante una métrica adecuada a tu problemática.\n",
    "1. Interpreta los resultados y comprende los outputs del modelo.\n",
    "1. Siguientes pasos. ¿Se podría seguir enriqueciendo el modelo con otras pruebas o con otros datos?"
   ]
  },
  {
   "cell_type": "code",
   "execution_count": null,
   "metadata": {},
   "outputs": [],
   "source": []
  }
 ],
 "metadata": {
  "language_info": {
   "name": "python"
  },
  "orig_nbformat": 4
 },
 "nbformat": 4,
 "nbformat_minor": 2
}
